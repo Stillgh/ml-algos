{
 "cells": [
  {
   "cell_type": "markdown",
   "id": "f783c8d4",
   "metadata": {},
   "source": [
    "Рандомно выбираем коэфы для линейной функции. С помощью нахождения производной изменяем коэфы до тех пор пока методом наименьших квадратов не найдем минимальное значение ошибки"
   ]
  },
  {
   "cell_type": "markdown",
   "id": "547ea350",
   "metadata": {},
   "source": [
    "R-squared считаем, чтобы определить скоррелирован ли признак(-и) с Y (вес мыши с ее размером) (корреляция кстати считается с помощью просто R, не в квадрате)\n",
    "потом p-value считаем, чтобы определить статистическую значимость результата"
   ]
  },
  {
   "cell_type": "code",
   "execution_count": null,
   "id": "b4e1db3a",
   "metadata": {},
   "outputs": [],
   "source": []
  }
 ],
 "metadata": {
  "kernelspec": {
   "display_name": "Python 3 (ipykernel)",
   "language": "python",
   "name": "python3"
  },
  "language_info": {
   "codemirror_mode": {
    "name": "ipython",
    "version": 3
   },
   "file_extension": ".py",
   "mimetype": "text/x-python",
   "name": "python",
   "nbconvert_exporter": "python",
   "pygments_lexer": "ipython3",
   "version": "3.10.9"
  }
 },
 "nbformat": 4,
 "nbformat_minor": 5
}
