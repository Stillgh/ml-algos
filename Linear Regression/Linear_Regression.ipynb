{
 "cells": [
  {
   "cell_type": "markdown",
   "id": "31de3d65",
   "metadata": {},
   "source": [
    "\n",
    "Строим линейную функцию y = b + ax, b - intercept, a-коэфы, x - скаляр/вектор фичей\n",
    "\n",
    "Рандомно выбираем коэфы для линейной функции. \n",
    "\n",
    "С помощью нахождения производной изменяем коэфы до тех пор пока методом наименьших квадратов не найдем минимальное значение ошибки\n",
    "\n",
    "Затем $R^2$ считаем, чтобы определить скоррелирован ли признак(-и) с Y (вес мыши с ее размером) (корреляция кстати считается с помощью просто R, не в квадрате)\n",
    "\n",
    "потом p-value считаем, чтобы определить статистическую значимость результата"
   ]
  },
  {
   "cell_type": "markdown",
   "id": "cee29bd5",
   "metadata": {},
   "source": [
    "\n",
    "\n"
   ]
  },
  {
   "cell_type": "code",
   "execution_count": null,
   "id": "adfbb22d",
   "metadata": {},
   "outputs": [],
   "source": []
  }
 ],
 "metadata": {
  "kernelspec": {
   "display_name": "Python 3 (ipykernel)",
   "language": "python",
   "name": "python3"
  },
  "language_info": {
   "codemirror_mode": {
    "name": "ipython",
    "version": 3
   },
   "file_extension": ".py",
   "mimetype": "text/x-python",
   "name": "python",
   "nbconvert_exporter": "python",
   "pygments_lexer": "ipython3",
   "version": "3.10.9"
  }
 },
 "nbformat": 4,
 "nbformat_minor": 5
}
