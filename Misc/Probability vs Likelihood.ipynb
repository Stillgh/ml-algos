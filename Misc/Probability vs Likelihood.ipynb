{
 "cells": [
  {
   "cell_type": "markdown",
   "id": "3c1b693f",
   "metadata": {},
   "source": [
    "https://sebastianraschka.com/faq/docs/probability-vs-likelihood.html"
   ]
  },
  {
   "cell_type": "markdown",
   "id": "96860402",
   "metadata": {},
   "source": [
    "Probability - вероятность получить такое-то значение случайной величины при данном типе распределения (модели)\n",
    "\n",
    "Using the term probability, we calculate how probable (or likely) it is to draw a sample from a given distribution with certain parameters. "
   ]
  },
  {
   "cell_type": "markdown",
   "id": "19cfb7f5",
   "metadata": {},
   "source": [
    "Likelihood - вероятность получить такой-то тип распределения (параметры распределения) при данном значении случайной величины\n",
    "\n",
    "$L(w|x)$ \n",
    ", computes how likely the parameters are given the observed data – in a practical context, we change the parameters of the distribution and see how it affects the likelihood."
   ]
  },
  {
   "cell_type": "markdown",
   "id": "8356623b",
   "metadata": {},
   "source": [
    "A normal distribution has the parameters μ\n",
    " (mean) and σ\n",
    " (standard deviation); however I am using w\n",
    " in L(w|x)\n",
    " instead of L(μ,σ|x)\n",
    " to keep it general. This will also make the notation is a bit more natural in a machine learning context later. For now, in the context of normal distributions you can think of it as follows: w=(μ,σ)\n",
    "."
   ]
  },
  {
   "cell_type": "markdown",
   "id": "2d800c86",
   "metadata": {},
   "source": [
    "maximum likelihood estimation - это похоже подгон параметров типа распределения таким образом, чтобы максимизировать вероятность получить х при таком-то типе распределения с такими-то параметрами"
   ]
  },
  {
   "cell_type": "code",
   "execution_count": null,
   "id": "781caa59",
   "metadata": {},
   "outputs": [],
   "source": []
  }
 ],
 "metadata": {
  "kernelspec": {
   "display_name": "Python 3 (ipykernel)",
   "language": "python",
   "name": "python3"
  },
  "language_info": {
   "codemirror_mode": {
    "name": "ipython",
    "version": 3
   },
   "file_extension": ".py",
   "mimetype": "text/x-python",
   "name": "python",
   "nbconvert_exporter": "python",
   "pygments_lexer": "ipython3",
   "version": "3.10.9"
  }
 },
 "nbformat": 4,
 "nbformat_minor": 5
}
